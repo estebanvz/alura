{
  "nbformat": 4,
  "nbformat_minor": 0,
  "metadata": {
    "colab": {
      "name": "Clase01.ipynb",
      "provenance": [],
      "authorship_tag": "ABX9TyM9LiMHEki9xLz+HEwD4Drt",
      "include_colab_link": true
    },
    "kernelspec": {
      "name": "python3",
      "display_name": "Python 3"
    },
    "language_info": {
      "name": "python"
    }
  },
  "cells": [
    {
      "cell_type": "markdown",
      "metadata": {
        "id": "view-in-github",
        "colab_type": "text"
      },
      "source": [
        "<a href=\"https://colab.research.google.com/github/estebanvz/alura/blob/clase01/Clase01.ipynb\" target=\"_parent\"><img src=\"https://colab.research.google.com/assets/colab-badge.svg\" alt=\"Open In Colab\"/></a>"
      ]
    },
    {
      "cell_type": "code",
      "execution_count": 4,
      "metadata": {
        "id": "0f8v_g-gZLj4"
      },
      "outputs": [],
      "source": [
        "import tensorflow as tf\n",
        "from tensorflow import keras\n",
        "import matplotlib.pyplot as plt\n"
      ]
    },
    {
      "cell_type": "code",
      "source": [
        "dataset = keras.datasets.fashion_mnist\n",
        "(( imagenes_entrenamiento, etiquetas_entrenamiento ),(imagenes_test, etiquetas_test)) =dataset.load_data()"
      ],
      "metadata": {
        "colab": {
          "base_uri": "https://localhost:8080/"
        },
        "id": "CKU2rD32Zlb1",
        "outputId": "66e69c18-ecc1-4892-a9b7-fedcf0c72b6e"
      },
      "execution_count": 2,
      "outputs": [
        {
          "output_type": "stream",
          "name": "stdout",
          "text": [
            "Downloading data from https://storage.googleapis.com/tensorflow/tf-keras-datasets/train-labels-idx1-ubyte.gz\n",
            "32768/29515 [=================================] - 0s 0us/step\n",
            "40960/29515 [=========================================] - 0s 0us/step\n",
            "Downloading data from https://storage.googleapis.com/tensorflow/tf-keras-datasets/train-images-idx3-ubyte.gz\n",
            "26427392/26421880 [==============================] - 0s 0us/step\n",
            "26435584/26421880 [==============================] - 0s 0us/step\n",
            "Downloading data from https://storage.googleapis.com/tensorflow/tf-keras-datasets/t10k-labels-idx1-ubyte.gz\n",
            "16384/5148 [===============================================================================================] - 0s 0us/step\n",
            "Downloading data from https://storage.googleapis.com/tensorflow/tf-keras-datasets/t10k-images-idx3-ubyte.gz\n",
            "4423680/4422102 [==============================] - 0s 0us/step\n",
            "4431872/4422102 [==============================] - 0s 0us/step\n"
          ]
        }
      ]
    },
    {
      "cell_type": "code",
      "source": [
        "plt.imshow(imagenes_entrenamiento[55])"
      ],
      "metadata": {
        "colab": {
          "base_uri": "https://localhost:8080/",
          "height": 282
        },
        "id": "x6if9qBvaIeV",
        "outputId": "fb417618-b718-4348-d27b-266ff903fcd1"
      },
      "execution_count": 16,
      "outputs": [
        {
          "output_type": "execute_result",
          "data": {
            "text/plain": [
              "<matplotlib.image.AxesImage at 0x7f25709a4dd0>"
            ]
          },
          "metadata": {},
          "execution_count": 16
        },
        {
          "output_type": "display_data",
          "data": {
            "image/png": "[encoded data removed]",
            "text/plain": [
              "<Figure size 432x288 with 1 Axes>"
            ]
          },
          "metadata": {
            "needs_background": "light"
          }
        }
      ]
    },
    {
      "cell_type": "code",
      "source": [
        "imagenes_entrenamiento.shape"
      ],
      "metadata": {
        "colab": {
          "base_uri": "https://localhost:8080/"
        },
        "id": "tbFdc__lvEBe",
        "outputId": "c01f9737-cfee-4933-c393-05fda0159ff7"
      },
      "execution_count": 17,
      "outputs": [
        {
          "output_type": "execute_result",
          "data": {
            "text/plain": [
              "(60000, 28, 28)"
            ]
          },
          "metadata": {},
          "execution_count": 17
        }
      ]
    },
    {
      "cell_type": "code",
      "source": [
        "def mostrar_estructura(imagenes,etiquetas,titulo):\n",
        "  print(\"--> \",titulo)\n",
        "  print(\n",
        "      \"Cantidad de imágenes: {} \\nCantidad de etiquetas: {} \\nEstructura de las imágenes: {}\\nEtiquetas: {}\"\n",
        "      .format(imagenes.shape[0],etiquetas.shape[0],imagenes.shape[1:],list(set(etiquetas)))\n",
        "  )"
      ],
      "metadata": {
        "id": "p53O6WBmueax"
      },
      "execution_count": 23,
      "outputs": []
    },
    {
      "cell_type": "code",
      "source": [
        "mostrar_estructura(imagenes_entrenamiento,etiquetas_entrenamiento,\"Dataset de entrenamiento\")"
      ],
      "metadata": {
        "colab": {
          "base_uri": "https://localhost:8080/"
        },
        "id": "V_xVUJ-AvZLF",
        "outputId": "17a0ec46-4e28-45fb-f292-6b3509fe4fc2"
      },
      "execution_count": 24,
      "outputs": [
        {
          "output_type": "stream",
          "name": "stdout",
          "text": [
            "-->  Dataset de entrenamiento\n",
            "Cantidad de imágenes: 60000 \n",
            "Cantidad de etiquetas: 60000 \n",
            "Estructura de las imágenes: (28, 28)\n",
            "Etiquetas: [0, 1, 2, 3, 4, 5, 6, 7, 8, 9]\n"
          ]
        }
      ]
    },
    {
      "cell_type": "code",
      "source": [
        "mostrar_estructura(imagenes_test,etiquetas_test,\"Dataset de test\")"
      ],
      "metadata": {
        "colab": {
          "base_uri": "https://localhost:8080/"
        },
        "id": "SkRx_TFEvgZZ",
        "outputId": "2cb20c9c-da35-4724-cf21-c414fedfe021"
      },
      "execution_count": 25,
      "outputs": [
        {
          "output_type": "stream",
          "name": "stdout",
          "text": [
            "-->  Dataset de test\n",
            "Cantidad de imágenes: 10000 \n",
            "Cantidad de etiquetas: 10000 \n",
            "Estructura de las imágenes: (28, 28)\n",
            "Etiquetas: [0, 1, 2, 3, 4, 5, 6, 7, 8, 9]\n"
          ]
        }
      ]
    },
    {
      "cell_type": "code",
      "source": [
        ""
      ],
      "metadata": {
        "id": "VHt2xTDovp81"
      },
      "execution_count": null,
      "outputs": []
    }
  ]
}