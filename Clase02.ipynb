{
  "nbformat": 4,
  "nbformat_minor": 0,
  "metadata": {
    "colab": {
      "name": "Clase02.ipynb",
      "provenance": [],
      "collapsed_sections": [],
      "authorship_tag": "ABX9TyMdToniBiMU1Iqru1c5C9De",
      "include_colab_link": true
    },
    "kernelspec": {
      "name": "python3",
      "display_name": "Python 3"
    },
    "language_info": {
      "name": "python"
    }
  },
  "cells": [
    {
      "cell_type": "markdown",
      "metadata": {
        "id": "view-in-github",
        "colab_type": "text"
      },
      "source": [
        "<a href=\"https://colab.research.google.com/github/estebanvz/alura/blob/clase02/Clase02.ipynb\" target=\"_parent\"><img src=\"https://colab.research.google.com/assets/colab-badge.svg\" alt=\"Open In Colab\"/></a>"
      ]
    },
    {
      "cell_type": "markdown",
      "source": [
        "# Importación de librerias"
      ],
      "metadata": {
        "id": "AQfytatk2P4u"
      }
    },
    {
      "cell_type": "code",
      "execution_count": 1,
      "metadata": {
        "id": "0f8v_g-gZLj4"
      },
      "outputs": [],
      "source": [
        "import tensorflow as tf\n",
        "from tensorflow import keras\n",
        "import matplotlib.pyplot as plt"
      ]
    },
    {
      "cell_type": "markdown",
      "source": [
        "# Cargando el dataset "
      ],
      "metadata": {
        "id": "iSb_kqtQ2WqV"
      }
    },
    {
      "cell_type": "code",
      "source": [
        "dataset = keras.datasets.fashion_mnist\n",
        "(( imagenes_entrenamiento, etiquetas_entrenamiento ),(imagenes_test, etiquetas_test)) =dataset.load_data()"
      ],
      "metadata": {
        "id": "CKU2rD32Zlb1",
        "colab": {
          "base_uri": "https://localhost:8080/"
        },
        "outputId": "87bdbe4b-9f9b-40b6-b41e-1649aa954ec3"
      },
      "execution_count": 2,
      "outputs": [
        {
          "output_type": "stream",
          "name": "stdout",
          "text": [
            "Downloading data from https://storage.googleapis.com/tensorflow/tf-keras-datasets/train-labels-idx1-ubyte.gz\n",
            "32768/29515 [=================================] - 0s 0us/step\n",
            "40960/29515 [=========================================] - 0s 0us/step\n",
            "Downloading data from https://storage.googleapis.com/tensorflow/tf-keras-datasets/train-images-idx3-ubyte.gz\n",
            "26427392/26421880 [==============================] - 0s 0us/step\n",
            "26435584/26421880 [==============================] - 0s 0us/step\n",
            "Downloading data from https://storage.googleapis.com/tensorflow/tf-keras-datasets/t10k-labels-idx1-ubyte.gz\n",
            "16384/5148 [===============================================================================================] - 0s 0us/step\n",
            "Downloading data from https://storage.googleapis.com/tensorflow/tf-keras-datasets/t10k-images-idx3-ubyte.gz\n",
            "4423680/4422102 [==============================] - 0s 0us/step\n",
            "4431872/4422102 [==============================] - 0s 0us/step\n"
          ]
        }
      ]
    },
    {
      "cell_type": "markdown",
      "source": [
        "# Exploración de datos"
      ],
      "metadata": {
        "id": "a2LbAHpj2imr"
      }
    },
    {
      "cell_type": "markdown",
      "source": [
        "![image.png](data:image/png;base64,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)"
      ],
      "metadata": {
        "id": "Gm7x8yJv2tVT"
      }
    },
    {
      "cell_type": "code",
      "source": [
        "def mostrar_estructura(imagenes,etiquetas,titulo):\n",
        "  print(\"--> \",titulo)\n",
        "  print(\n",
        "      \"Cantidad de imágenes: {} \\nCantidad de etiquetas: {} \\nEstructura de las imágenes: {}\\nEtiquetas: {}\"\n",
        "      .format(imagenes.shape[0],etiquetas.shape[0],imagenes.shape[1:],list(set(etiquetas)))\n",
        "  )"
      ],
      "metadata": {
        "id": "p53O6WBmueax"
      },
      "execution_count": 3,
      "outputs": []
    },
    {
      "cell_type": "code",
      "source": [
        "mostrar_estructura(imagenes_entrenamiento,etiquetas_entrenamiento,\"Dataset de entrenamiento\")"
      ],
      "metadata": {
        "colab": {
          "base_uri": "https://localhost:8080/"
        },
        "id": "V_xVUJ-AvZLF",
        "outputId": "c2898cac-f7da-4c9d-9efa-01978381e257"
      },
      "execution_count": 4,
      "outputs": [
        {
          "output_type": "stream",
          "name": "stdout",
          "text": [
            "-->  Dataset de entrenamiento\n",
            "Cantidad de imágenes: 60000 \n",
            "Cantidad de etiquetas: 60000 \n",
            "Estructura de las imágenes: (28, 28)\n",
            "Etiquetas: [0, 1, 2, 3, 4, 5, 6, 7, 8, 9]\n"
          ]
        }
      ]
    },
    {
      "cell_type": "code",
      "source": [
        "mostrar_estructura(imagenes_test,etiquetas_test,\"Dataset de test\")"
      ],
      "metadata": {
        "colab": {
          "base_uri": "https://localhost:8080/"
        },
        "id": "SkRx_TFEvgZZ",
        "outputId": "0b30598b-c673-4487-b16b-eb1c16735960"
      },
      "execution_count": 5,
      "outputs": [
        {
          "output_type": "stream",
          "name": "stdout",
          "text": [
            "-->  Dataset de test\n",
            "Cantidad de imágenes: 10000 \n",
            "Cantidad de etiquetas: 10000 \n",
            "Estructura de las imágenes: (28, 28)\n",
            "Etiquetas: [0, 1, 2, 3, 4, 5, 6, 7, 8, 9]\n"
          ]
        }
      ]
    },
    {
      "cell_type": "markdown",
      "source": [
        "# Descripción de las etiquetas\n",
        "[Github fashion mnist](https://github.com/zalandoresearch/fashion-mnist)\n",
        "\n",
        "Etiquetas (labels):\n",
        "* 0 T-shirt/top -> camisa\n",
        "* 1 Trouser -> pantalón\n",
        "* 2 Pullover -> suéter\n",
        "* 3 Dress -> vestido\n",
        "* 4 Coat -> saco\n",
        "* 5 Sandal -> sandalia\n",
        "* 6 Shirt -> camisa\n",
        "* 7 Sneaker -> zapatilla\n",
        "* 8 Bag -> bolsa\n",
        "* 9 Ankle boot -> bota"
      ],
      "metadata": {
        "id": "EWj7F_kaICgl"
      }
    },
    {
      "cell_type": "markdown",
      "source": [
        "# Visualización de datos"
      ],
      "metadata": {
        "id": "oB9YHOQg2nL2"
      }
    },
    {
      "cell_type": "code",
      "source": [
        "etiquetas = [\"camisa\",\"pantalón\",\"suéter\",\"vestido\",\"saco\",\"sandalia\",\"camisa\",\"zapatilla\",\"bolsa\",\"bota\",]"
      ],
      "metadata": {
        "id": "10o7K-2VGt6u"
      },
      "execution_count": 6,
      "outputs": []
    },
    {
      "cell_type": "code",
      "source": [
        "for index in range(10):\n",
        "  plt.subplot( 2, 5, index + 1 )\n",
        "  plt.axis(\"off\")\n",
        "  plt.title( etiquetas[etiquetas_entrenamiento[index+30]])\n",
        "  plt.imshow(imagenes_entrenamiento[index+30],cmap=\"gray\")"
      ],
      "metadata": {
        "colab": {
          "base_uri": "https://localhost:8080/",
          "height": 223
        },
        "id": "mkXaMV8ZIfKg",
        "outputId": "abb05428-877e-4785-d49b-cb006bac62a1"
      },
      "execution_count": 7,
      "outputs": [
        {
          "output_type": "display_data",
          "data": {
            "image/png": "[encoded data removed]",
            "text/plain": [
              "<Figure size 432x288 with 10 Axes>"
            ]
          },
          "metadata": {
            "needs_background": "light"
          }
        }
      ]
    },
    {
      "cell_type": "markdown",
      "source": [
        "# Redes Neuronales (Machine Learning Clásico)"
      ],
      "metadata": {
        "id": "-sKnzOYg8ZSe"
      }
    },
    {
      "cell_type": "code",
      "source": [
        "imagenes_entrenamiento.shape"
      ],
      "metadata": {
        "colab": {
          "base_uri": "https://localhost:8080/"
        },
        "id": "2J_pZPun8dm9",
        "outputId": "357be488-fe33-4dbd-b5db-da69959fe8bf"
      },
      "execution_count": 12,
      "outputs": [
        {
          "output_type": "execute_result",
          "data": {
            "text/plain": [
              "(60000, 28, 28)"
            ]
          },
          "metadata": {},
          "execution_count": 12
        }
      ]
    },
    {
      "cell_type": "code",
      "source": [
        "imagenes_entrenamiento_flat = imagenes_entrenamiento.reshape( (60000, 28 * 28) )\n",
        "imagenes_entrenamiento_flat.shape"
      ],
      "metadata": {
        "colab": {
          "base_uri": "https://localhost:8080/"
        },
        "id": "MPpVJ15T8mCW",
        "outputId": "828eb15a-e653-4b78-fa8c-ef8d0ea4d33c"
      },
      "execution_count": 13,
      "outputs": [
        {
          "output_type": "execute_result",
          "data": {
            "text/plain": [
              "(60000, 784)"
            ]
          },
          "metadata": {},
          "execution_count": 13
        }
      ]
    },
    {
      "cell_type": "code",
      "source": [
        "red_neuronal = keras.Sequential([\n",
        "  keras.layers.Dense(10, input_shape=(784,) )\n",
        "])\n",
        "red_neuronal.compile( loss = \"sparse_categorical_crossentropy\" )"
      ],
      "metadata": {
        "id": "8G7hUU4b9C9T"
      },
      "execution_count": 14,
      "outputs": []
    },
    {
      "cell_type": "code",
      "source": [
        "red_neuronal.fit( imagenes_entrenamiento_flat, etiquetas_entrenamiento )"
      ],
      "metadata": {
        "colab": {
          "base_uri": "https://localhost:8080/"
        },
        "id": "k3K3xYyN-FNy",
        "outputId": "4ade79c6-9e5c-40ab-e602-3c3b5a498501"
      },
      "execution_count": 15,
      "outputs": [
        {
          "output_type": "stream",
          "name": "stdout",
          "text": [
            "1875/1875 [==============================] - 3s 1ms/step - loss: 2.8512\n"
          ]
        },
        {
          "output_type": "execute_result",
          "data": {
            "text/plain": [
              "<keras.callbacks.History at 0x7fa172bea3d0>"
            ]
          },
          "metadata": {},
          "execution_count": 15
        }
      ]
    },
    {
      "cell_type": "code",
      "source": [
        ""
      ],
      "metadata": {
        "id": "p_Mw0eKy-NrE"
      },
      "execution_count": null,
      "outputs": []
    }
  ]
}